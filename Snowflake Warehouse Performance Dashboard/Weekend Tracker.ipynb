{
 "metadata": {
  "kernelspec": {
   "display_name": "Streamlit Notebook",
   "name": "streamlit"
  },
  "lastEditStatus": {
   "notebookId": "wedzl3bexfkitm6now32",
   "authorId": "2538688835982",
   "authorName": "MODELTRAINING",
   "authorEmail": "yuga.saste91@gmail.com",
   "sessionId": "3ce85080-0e7f-4bd4-8c57-97a9937fd5c5",
   "lastEditTime": 1752242741833
  }
 },
 "nbformat_minor": 5,
 "nbformat": 4,
 "cells": [
  {
   "cell_type": "code",
   "id": "8d50cbf4-0c8d-4950-86cb-114990437ac9",
   "metadata": {
    "language": "python",
    "name": "cell2"
   },
   "source": "# Python cell\nimport streamlit as st\nimport pandas as pd\nfrom snowflake.snowpark.context import get_active_session\n\nsession = get_active_session()\n",
   "execution_count": null,
   "outputs": []
  },
  {
   "cell_type": "code",
   "id": "98bd9dba-feda-4f54-a350-0f606670819a",
   "metadata": {
    "language": "sql",
    "name": "cell1"
   },
   "outputs": [],
   "source": "-- SQL cell\nSELECT 'FRIDAY' AS DAY, 0.65 AS AVG_LOAD, 120 AS QUERY_COUNT\nUNION ALL\nSELECT 'SATURDAY', 0.30, 80\nUNION ALL\nSELECT 'SUNDAY', 0.75, 160;\n",
   "execution_count": null
  },
  {
   "cell_type": "code",
   "id": "c3938633-96e5-4ff1-9679-9b0359800d51",
   "metadata": {
    "language": "python",
    "name": "cell3"
   },
   "outputs": [],
   "source": "from snowflake.snowpark.functions import col\n\n# Define the query as a DataFrame using Snowpark\ndf = session.sql(\"\"\"\n    SELECT 'FRIDAY' AS DAY, 0.65 AS AVG_LOAD, 120 AS QUERY_COUNT\n    UNION ALL\n    SELECT 'SATURDAY', 0.30, 80\n    UNION ALL\n    SELECT 'SUNDAY', 0.75, 160\n\"\"\")\n\n# Convert to pandas DataFrame\nworkload_df = df.to_pandas()\n\n# Now you can use workload_df in Streamlit\nimport streamlit as st\n\nst.subheader(\"📊 Weekend Warehouse Load\")\nst.bar_chart(workload_df, x=\"DAY\", y=\"AVG_LOAD\")\n\nst.subheader(\"📈 Weekend Query Counts\")\nst.line_chart(workload_df, x=\"DAY\", y=\"QUERY_COUNT\")\n",
   "execution_count": null
  }
 ]
}